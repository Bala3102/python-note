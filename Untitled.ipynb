{
 "cells": [
  {
   "cell_type": "code",
   "execution_count": 5,
   "id": "4e3b90fe",
   "metadata": {},
   "outputs": [
    {
     "name": "stdout",
     "output_type": "stream",
     "text": [
      "12\n"
     ]
    }
   ],
   "source": [
    "a = \"Hello, Bala!\" # total length of tha word #\n",
    "print(len(a)) \n"
   ]
  },
  {
   "cell_type": "code",
   "execution_count": 6,
   "id": "bac8c2d4",
   "metadata": {},
   "outputs": [
    {
     "name": "stdout",
     "output_type": "stream",
     "text": [
      "Enter username:bala\n",
      "Username is: bala\n"
     ]
    }
   ],
   "source": [
    "username = input(\"Enter username:\") # get input from user #\n",
    "print(\"Username is: \" + username)\n"
   ]
  },
  {
   "cell_type": "code",
   "execution_count": 11,
   "id": "d6c68a97",
   "metadata": {},
   "outputs": [
    {
     "name": "stdout",
     "output_type": "stream",
     "text": [
      "w3resource\n",
      "abc\n"
     ]
    }
   ],
   "source": [
    "def remove_spaces(str1):\n",
    "  str1 = str1.replace(' ','')\n",
    "  return str1\n",
    "    \n",
    "print(remove_spaces(\"w 3 res ou r ce\"))\n",
    "print(remove_spaces(\"a b c\"))"
   ]
  },
  {
   "cell_type": "code",
   "execution_count": 2,
   "id": "cc0d3198",
   "metadata": {},
   "outputs": [
    {
     "name": "stdout",
     "output_type": "stream",
     "text": [
      "0\n",
      "2\n",
      "4\n",
      "6\n",
      "8\n"
     ]
    }
   ],
   "source": [
    "for i in range(10):\n",
    "    if i%2==0:\n",
    "        print(i)\n"
   ]
  },
  {
   "cell_type": "code",
   "execution_count": 2,
   "id": "8e30feba",
   "metadata": {},
   "outputs": [
    {
     "name": "stdout",
     "output_type": "stream",
     "text": [
      "[1, 3, 5, 7, 9]\n"
     ]
    }
   ],
   "source": [
    "# list of odd numbers\n",
    "l=[]\n",
    "for i in range(10):\n",
    "    if i%2!=0:\n",
    "        l.append(i)\n",
    "print(l)     "
   ]
  },
  {
   "cell_type": "code",
   "execution_count": 4,
   "id": "7f53e8c8",
   "metadata": {},
   "outputs": [
    {
     "name": "stdout",
     "output_type": "stream",
     "text": [
      "   December 1998\n",
      "Mo Tu We Th Fr Sa Su\n",
      "    1  2  3  4  5  6\n",
      " 7  8  9 10 11 12 13\n",
      "14 15 16 17 18 19 20\n",
      "21 22 23 24 25 26 27\n",
      "28 29 30 31\n",
      "\n"
     ]
    }
   ],
   "source": [
    "import calendar\n",
    "year=1998\n",
    "month=12\n",
    "x=calendar.month(year,month)\n",
    "print(x)"
   ]
  },
  {
   "cell_type": "code",
   "execution_count": 1,
   "id": "0f7a4c15",
   "metadata": {},
   "outputs": [
    {
     "name": "stdout",
     "output_type": "stream",
     "text": [
      "10\n"
     ]
    }
   ],
   "source": [
    "a=9\n",
    "b=1\n",
    "c=a+b\n",
    "print(c)"
   ]
  },
  {
   "cell_type": "code",
   "execution_count": 24,
   "id": "526582f5",
   "metadata": {},
   "outputs": [
    {
     "name": "stdout",
     "output_type": "stream",
     "text": [
      "Select opection\n",
      "1.add\n",
      "2.sub\n",
      "3.mul\n",
      "4.div\n",
      "\n",
      "Enter your choice3\n",
      "enter number 23\n",
      "6000\n"
     ]
    }
   ],
   "source": [
    "# simple calculator\n",
    "def add(a , b):\n",
    "    return a+b\n",
    "def sub(a , b):\n",
    "    return a-b\n",
    "def mul(a , b):\n",
    "    return a*b\n",
    "def div(a , b):\n",
    "    return a//b\n",
    "print(\"\"\"Select opection\n",
    "1.add\n",
    "2.sub\n",
    "3.mul\n",
    "4.div\n",
    "\"\"\")\n",
    "\n",
    "choice =int (input(\"Enter your choice\"))\n",
    "#a = int(input(\"enter number 1\"))\n",
    "b=int(input(\"enter number 2\"))\n",
    "if choice == 1:\n",
    "   print (add(20, b))\n",
    "elif choice == 2:\n",
    "    print(sub(a, b))\n",
    "elif choice == 3:\n",
    "    print(mul(2000, b))\n",
    "elif choice == 4:\n",
    "   print( div(a, b))\n",
    "else:\n",
    "    print(\"Enter correct choice\")"
   ]
  },
  {
   "cell_type": "code",
   "execution_count": 50,
   "id": "5e55b18a",
   "metadata": {},
   "outputs": [
    {
     "name": "stdout",
     "output_type": "stream",
     "text": [
      "{'apple': 3, 'orange': 1, 'mango': 1}\n"
     ]
    }
   ],
   "source": [
    "a=[\"apple\",\"orange\",\"mango\",\"apple\",\"apple\"]\n",
    "b={}\n",
    "for i in a:\n",
    "    if i in b.keys():\n",
    "        b[i]+=1\n",
    "    else:\n",
    "        b[i]=1\n",
    "print(b)        "
   ]
  },
  {
   "cell_type": "code",
   "execution_count": 11,
   "id": "a177707b",
   "metadata": {},
   "outputs": [
    {
     "name": "stdout",
     "output_type": "stream",
     "text": [
      "['gmail.com', 'gmail.com', 'yahoo']\n"
     ]
    }
   ],
   "source": [
    "a=(\"bala@gmail.com\",\"test@gmail.com\",\"priya@yahoo\",\"test@gmail.com\")\n",
    "b=[]\n",
    "for i in set(a):\n",
    "    c=i.split(\"@\")[1]\n",
    "    b.append(c)\n",
    "print(b)"
   ]
  },
  {
   "cell_type": "code",
   "execution_count": 22,
   "id": "edbbf12b",
   "metadata": {},
   "outputs": [],
   "source": [
    "def test (a,b):\n",
    "    print (a+b)\n",
    "    "
   ]
  },
  {
   "cell_type": "code",
   "execution_count": 23,
   "id": "c0667f70",
   "metadata": {},
   "outputs": [
    {
     "ename": "TypeError",
     "evalue": "can only concatenate tuple (not \"dict\") to tuple",
     "output_type": "error",
     "traceback": [
      "\u001b[1;31m---------------------------------------------------------------------------\u001b[0m",
      "\u001b[1;31mTypeError\u001b[0m                                 Traceback (most recent call last)",
      "\u001b[1;32m~\\AppData\\Local\\Temp\\ipykernel_7456\\3652797598.py\u001b[0m in \u001b[0;36m<module>\u001b[1;34m\u001b[0m\n\u001b[1;32m----> 1\u001b[1;33m \u001b[0mtest\u001b[0m \u001b[1;33m(\u001b[0m\u001b[0ma\u001b[0m\u001b[1;33m,\u001b[0m\u001b[0mb\u001b[0m\u001b[1;33m)\u001b[0m\u001b[1;33m\u001b[0m\u001b[1;33m\u001b[0m\u001b[0m\n\u001b[0m",
      "\u001b[1;32m~\\AppData\\Local\\Temp\\ipykernel_7456\\3502267859.py\u001b[0m in \u001b[0;36mtest\u001b[1;34m(a, b)\u001b[0m\n\u001b[0;32m      1\u001b[0m \u001b[1;32mdef\u001b[0m \u001b[0mtest\u001b[0m \u001b[1;33m(\u001b[0m\u001b[0ma\u001b[0m\u001b[1;33m,\u001b[0m\u001b[0mb\u001b[0m\u001b[1;33m)\u001b[0m\u001b[1;33m:\u001b[0m\u001b[1;33m\u001b[0m\u001b[1;33m\u001b[0m\u001b[0m\n\u001b[1;32m----> 2\u001b[1;33m     \u001b[0mprint\u001b[0m \u001b[1;33m(\u001b[0m\u001b[0ma\u001b[0m\u001b[1;33m+\u001b[0m\u001b[0mb\u001b[0m\u001b[1;33m)\u001b[0m\u001b[1;33m\u001b[0m\u001b[1;33m\u001b[0m\u001b[0m\n\u001b[0m\u001b[0;32m      3\u001b[0m \u001b[1;33m\u001b[0m\u001b[0m\n",
      "\u001b[1;31mTypeError\u001b[0m: can only concatenate tuple (not \"dict\") to tuple"
     ]
    }
   ],
   "source": [
    "test (a,b)"
   ]
  },
  {
   "cell_type": "code",
   "execution_count": 20,
   "id": "9bbc3e0c",
   "metadata": {},
   "outputs": [],
   "source": [
    "def test(a,b):\n",
    "    return (a,b)\n",
    "a = test(5,4)"
   ]
  },
  {
   "cell_type": "code",
   "execution_count": 21,
   "id": "0a96be12",
   "metadata": {},
   "outputs": [
    {
     "name": "stdout",
     "output_type": "stream",
     "text": [
      "(5, 4)\n"
     ]
    }
   ],
   "source": [
    "print(a)"
   ]
  },
  {
   "cell_type": "code",
   "execution_count": 28,
   "id": "5936820a",
   "metadata": {},
   "outputs": [
    {
     "ename": "TypeError",
     "evalue": "can only concatenate tuple (not \"int\") to tuple",
     "output_type": "error",
     "traceback": [
      "\u001b[1;31m---------------------------------------------------------------------------\u001b[0m",
      "\u001b[1;31mTypeError\u001b[0m                                 Traceback (most recent call last)",
      "\u001b[1;32m~\\AppData\\Local\\Temp\\ipykernel_7456\\1743847583.py\u001b[0m in \u001b[0;36m<module>\u001b[1;34m\u001b[0m\n\u001b[1;32m----> 1\u001b[1;33m \u001b[0mb\u001b[0m \u001b[1;33m=\u001b[0m \u001b[0mtest\u001b[0m \u001b[1;33m(\u001b[0m\u001b[0ma\u001b[0m\u001b[1;33m,\u001b[0m\u001b[1;36m6\u001b[0m\u001b[1;33m)\u001b[0m\u001b[1;33m\u001b[0m\u001b[1;33m\u001b[0m\u001b[0m\n\u001b[0m",
      "\u001b[1;32m~\\AppData\\Local\\Temp\\ipykernel_7456\\3502267859.py\u001b[0m in \u001b[0;36mtest\u001b[1;34m(a, b)\u001b[0m\n\u001b[0;32m      1\u001b[0m \u001b[1;32mdef\u001b[0m \u001b[0mtest\u001b[0m \u001b[1;33m(\u001b[0m\u001b[0ma\u001b[0m\u001b[1;33m,\u001b[0m\u001b[0mb\u001b[0m\u001b[1;33m)\u001b[0m\u001b[1;33m:\u001b[0m\u001b[1;33m\u001b[0m\u001b[1;33m\u001b[0m\u001b[0m\n\u001b[1;32m----> 2\u001b[1;33m     \u001b[0mprint\u001b[0m \u001b[1;33m(\u001b[0m\u001b[0ma\u001b[0m\u001b[1;33m+\u001b[0m\u001b[0mb\u001b[0m\u001b[1;33m)\u001b[0m\u001b[1;33m\u001b[0m\u001b[1;33m\u001b[0m\u001b[0m\n\u001b[0m\u001b[0;32m      3\u001b[0m \u001b[1;33m\u001b[0m\u001b[0m\n",
      "\u001b[1;31mTypeError\u001b[0m: can only concatenate tuple (not \"int\") to tuple"
     ]
    }
   ],
   "source": [
    "b = test (a,6)"
   ]
  },
  {
   "cell_type": "code",
   "execution_count": 26,
   "id": "0750e8ba",
   "metadata": {},
   "outputs": [
    {
     "name": "stdout",
     "output_type": "stream",
     "text": [
      "{'apple': 3, 'orange': 1, 'mango': 1}\n"
     ]
    }
   ],
   "source": [
    "print (b)"
   ]
  },
  {
   "cell_type": "code",
   "execution_count": 29,
   "id": "854924cd",
   "metadata": {},
   "outputs": [
    {
     "name": "stdout",
     "output_type": "stream",
     "text": [
      "hi\n",
      "hello\n"
     ]
    }
   ],
   "source": [
    "a = \"hi\"\n",
    "\n",
    "def test():\n",
    "    a = \"hello\"\n",
    "    return (a)\n",
    "\n",
    "print(a)\n",
    "a = test()\n",
    "print(a)"
   ]
  },
  {
   "cell_type": "code",
   "execution_count": 30,
   "id": "842be5ca",
   "metadata": {},
   "outputs": [
    {
     "name": "stdout",
     "output_type": "stream",
     "text": [
      "hi\n",
      "hello\n",
      "hi\n"
     ]
    }
   ],
   "source": [
    "a = \"hi\" # global variable\n",
    "\n",
    "def test():\n",
    "    a = \"hello\" # local variable\n",
    "    print (a)\n",
    "\n",
    "print(a)\n",
    "test()\n",
    "print(a)"
   ]
  },
  {
   "cell_type": "code",
   "execution_count": 31,
   "id": "152f49e8",
   "metadata": {},
   "outputs": [
    {
     "name": "stdout",
     "output_type": "stream",
     "text": [
      "hi\n",
      "hello\n",
      "hello\n"
     ]
    }
   ],
   "source": [
    "a = \"hi\" # global variable\n",
    "\n",
    "def test():\n",
    "    global a\n",
    "    a = \"hello\" # local variable change in global variable\n",
    "    print (a)\n",
    "\n",
    "print(a)\n",
    "test()\n",
    "print(a)"
   ]
  },
  {
   "cell_type": "code",
   "execution_count": 35,
   "id": "42d8859f",
   "metadata": {},
   "outputs": [],
   "source": [
    "def fb_name(f_name,m_name,l_name):\n",
    "    print(\"first name is\",f_name)\n",
    "    print(\"middle name is\",m_name)\n",
    "    print(\"last name is\",l_name)"
   ]
  },
  {
   "cell_type": "code",
   "execution_count": 36,
   "id": "e9e0b19b",
   "metadata": {},
   "outputs": [
    {
     "name": "stdout",
     "output_type": "stream",
     "text": [
      "first name is bala\n",
      "middle name is ramesh\n",
      "last name is raju\n"
     ]
    }
   ],
   "source": [
    "fb_name(\"bala\",\"ramesh\",\"raju\")"
   ]
  },
  {
   "cell_type": "code",
   "execution_count": 37,
   "id": "2b55d5c6",
   "metadata": {},
   "outputs": [
    {
     "name": "stdout",
     "output_type": "stream",
     "text": [
      "first name is ramesh\n",
      "middle name is raju\n",
      "last name is bala\n"
     ]
    }
   ],
   "source": [
    "fb_name(l_name=\"bala\",m_name=\"raju\",f_name=\"ramesh\")"
   ]
  },
  {
   "cell_type": "code",
   "execution_count": null,
   "id": "c3635756",
   "metadata": {},
   "outputs": [],
   "source": [
    "def get_dtails(inp,op):\n",
    "    if op == \"count\":\n",
    "        \n",
    "        d={}\n",
    "        for i in inp:\n",
    "            d[i] = inp.count(i)\n",
    "            return d\n",
    "    elif op ==\"unique\":\n",
    "            return set(inp)\n",
    "    elif op == \"duplicate\":\n",
    "            l=[]\n",
    "            f_list = []\n",
    "            for i in inp:\n",
    "                if i in l:\n",
    "                    f_list.append(i)\n",
    "                else:\n",
    "                    l.append(i)\n",
    "            return f_list      "
   ]
  },
  {
   "cell_type": "code",
   "execution_count": 35,
   "id": "117adab3",
   "metadata": {},
   "outputs": [
    {
     "name": "stdout",
     "output_type": "stream",
     "text": [
      "['apple', 'mango']\n"
     ]
    }
   ],
   "source": [
    "a = [\"apple\",\"apple\",\"mango\",\"lemon\",\"mango\"]\n",
    "a = get_dtails(a,\"duplicate\")\n",
    "print(a)"
   ]
  },
  {
   "cell_type": "code",
   "execution_count": 36,
   "id": "7456465c",
   "metadata": {},
   "outputs": [
    {
     "name": "stdout",
     "output_type": "stream",
     "text": [
      "{'mango', 'apple', 'lemon'}\n"
     ]
    }
   ],
   "source": [
    "a = [\"apple\",\"apple\",\"mango\",\"lemon\",\"mango\"]\n",
    "a = get_dtails(a,\"unique\")\n",
    "print(a)"
   ]
  },
  {
   "cell_type": "code",
   "execution_count": 20,
   "id": "af60c954",
   "metadata": {},
   "outputs": [
    {
     "name": "stdout",
     "output_type": "stream",
     "text": [
      "{'apple': 2}\n"
     ]
    }
   ],
   "source": [
    "a = [\"apple\",\"apple\",\"mango\",\"lemon\",\"mango\"]\n",
    "a = get_dtails(a,\"count\")\n",
    "print(a)\n"
   ]
  },
  {
   "cell_type": "code",
   "execution_count": 46,
   "id": "9e107d52",
   "metadata": {},
   "outputs": [
    {
     "name": "stdout",
     "output_type": "stream",
     "text": [
      "5\n"
     ]
    }
   ],
   "source": [
    "# Using sets to count unique values in a list\n",
    "a_list = ['apple', 'orage', 'apple', 'banana', 'apple', 'apple', 'orange', 'grape', 'grape', 'apple']\n",
    "\n",
    "\n",
    "num_values =a_list.count(\"apple\")\n",
    "\n",
    "print(num_values)\n"
   ]
  },
  {
   "cell_type": "code",
   "execution_count": 40,
   "id": "7a1c13f0",
   "metadata": {},
   "outputs": [
    {
     "name": "stdout",
     "output_type": "stream",
     "text": [
      "How many terms? 5\n",
      "Fibonacci sequence:\n",
      "0\n",
      "1\n",
      "1\n",
      "2\n",
      "3\n"
     ]
    }
   ],
   "source": [
    "# Program to display the Fibonacci sequence up to n-th term\n",
    "\n",
    "nterms = int(input(\"How many terms? \"))\n",
    "\n",
    "# first two terms\n",
    "n1, n2 = 0, 1\n",
    "count = 0\n",
    "\n",
    "# check if the number of terms is valid\n",
    "if nterms <= 0:\n",
    "   print(\"Please enter a positive integer\")\n",
    "# if there is only one term, return n1\n",
    "elif nterms == 1:\n",
    "   print(\"Fibonacci sequence upto\",nterms,\":\")\n",
    "   print(n1)\n",
    "# generate fibonacci sequence\n",
    "else:\n",
    "   print(\"Fibonacci sequence:\")\n",
    "   while count < nterms:\n",
    "       print(n1)\n",
    "       nth = n1 + n2\n",
    "       # update values\n",
    "       n1 = n2\n",
    "       n2 = nth\n",
    "       count += 1"
   ]
  },
  {
   "cell_type": "code",
   "execution_count": 52,
   "id": "13c4d457",
   "metadata": {},
   "outputs": [
    {
     "data": {
      "text/plain": [
       "3"
      ]
     },
     "execution_count": 52,
     "metadata": {},
     "output_type": "execute_result"
    }
   ],
   "source": [
    "import math\n",
    "math.floor(3.5)"
   ]
  },
  {
   "cell_type": "code",
   "execution_count": 61,
   "id": "e9651774",
   "metadata": {},
   "outputs": [
    {
     "ename": "IndentationError",
     "evalue": "unexpected indent (3525633533.py, line 3)",
     "output_type": "error",
     "traceback": [
      "\u001b[1;36m  File \u001b[1;32m\"C:\\Users\\ELCOT\\AppData\\Local\\Temp\\ipykernel_3828\\3525633533.py\"\u001b[1;36m, line \u001b[1;32m3\u001b[0m\n\u001b[1;33m    print(a)\u001b[0m\n\u001b[1;37m    ^\u001b[0m\n\u001b[1;31mIndentationError\u001b[0m\u001b[1;31m:\u001b[0m unexpected indent\n"
     ]
    }
   ],
   "source": [
    "a=\"malayalam\"\n",
    "print(len(a))\n",
    "    print(a)\n",
    "    print(9//2)"
   ]
  },
  {
   "cell_type": "code",
   "execution_count": 1,
   "id": "fce65e75",
   "metadata": {},
   "outputs": [],
   "source": [
    "class calc():\n",
    "    def add(self,a,b):\n",
    "        print(a+b)\n",
    "    def sub(self,a,b):\n",
    "        print(a-b)"
   ]
  },
  {
   "cell_type": "code",
   "execution_count": 2,
   "id": "4c587f19",
   "metadata": {},
   "outputs": [
    {
     "name": "stdout",
     "output_type": "stream",
     "text": [
      "9\n"
     ]
    }
   ],
   "source": [
    "a = calc()\n",
    "a.add(5,4)"
   ]
  },
  {
   "cell_type": "code",
   "execution_count": 4,
   "id": "e2b876c7",
   "metadata": {},
   "outputs": [
    {
     "name": "stdout",
     "output_type": "stream",
     "text": [
      "<class '__main__.calc'>\n"
     ]
    }
   ],
   "source": [
    "print(calc)"
   ]
  },
  {
   "cell_type": "code",
   "execution_count": 5,
   "id": "687d595b",
   "metadata": {},
   "outputs": [
    {
     "name": "stdout",
     "output_type": "stream",
     "text": [
      "<__main__.calc object at 0x00000288A8F23550>\n"
     ]
    }
   ],
   "source": [
    "print(a)"
   ]
  },
  {
   "cell_type": "code",
   "execution_count": 6,
   "id": "7c0c8855",
   "metadata": {},
   "outputs": [],
   "source": [
    "class hotel():\n",
    "    \n",
    "    def floor(self,a):\n",
    "        if a == \"1\":\n",
    "            print(\"veg\")\n",
    "        elif a == \"2\":\n",
    "            print(\"non veg\")\n",
    "    def dish(self,a):\n",
    "        if a == \"1\":\n",
    "            print(\"veg biryani\")\n",
    "        elif a == \"2\":\n",
    "            print(\"chicken briyani\")"
   ]
  },
  {
   "cell_type": "code",
   "execution_count": 7,
   "id": "73261272",
   "metadata": {},
   "outputs": [
    {
     "name": "stdout",
     "output_type": "stream",
     "text": [
      "veg\n",
      "chicken briyani\n"
     ]
    }
   ],
   "source": [
    "a = hotel()\n",
    "a.floor(\"1\")\n",
    "a.dish(\"2\")"
   ]
  },
  {
   "cell_type": "code",
   "execution_count": 17,
   "id": "ddae65a7",
   "metadata": {},
   "outputs": [],
   "source": [
    "class hotel():\n",
    "    \n",
    "    \n",
    "    def __init__(self,a):\n",
    "        self.a = a\n",
    "        \n",
    "    def floor(self):\n",
    "        if self.a == \"1\":\n",
    "            print(\"veg\")\n",
    "        elif self.a == \"2\":\n",
    "            print(\"non veg\")\n",
    "            \n",
    "    def dish(self):\n",
    "        if self.a == \"1\":\n",
    "            print(\"veg biryani\")\n",
    "        elif self.a == \"2\":\n",
    "            print(\"chicken briyani\")"
   ]
  },
  {
   "cell_type": "code",
   "execution_count": 15,
   "id": "210fc3e2",
   "metadata": {},
   "outputs": [
    {
     "name": "stdout",
     "output_type": "stream",
     "text": [
      "veg\n",
      "veg biryani\n"
     ]
    }
   ],
   "source": [
    "a = hotel(\"1\")\n",
    "a.floor()\n",
    "a.dish()"
   ]
  },
  {
   "cell_type": "code",
   "execution_count": 16,
   "id": "277cf401",
   "metadata": {},
   "outputs": [
    {
     "name": "stdout",
     "output_type": "stream",
     "text": [
      "non veg\n",
      "chicken briyani\n"
     ]
    }
   ],
   "source": [
    "b = hotel(\"2\")\n",
    "b.floor()\n",
    "b.dish()"
   ]
  },
  {
   "cell_type": "code",
   "execution_count": 18,
   "id": "e66c5ee9",
   "metadata": {},
   "outputs": [
    {
     "data": {
      "text/plain": [
       "['__class__',\n",
       " '__delattr__',\n",
       " '__dict__',\n",
       " '__dir__',\n",
       " '__doc__',\n",
       " '__eq__',\n",
       " '__format__',\n",
       " '__ge__',\n",
       " '__getattribute__',\n",
       " '__gt__',\n",
       " '__hash__',\n",
       " '__init__',\n",
       " '__init_subclass__',\n",
       " '__le__',\n",
       " '__lt__',\n",
       " '__module__',\n",
       " '__ne__',\n",
       " '__new__',\n",
       " '__reduce__',\n",
       " '__reduce_ex__',\n",
       " '__repr__',\n",
       " '__setattr__',\n",
       " '__sizeof__',\n",
       " '__str__',\n",
       " '__subclasshook__',\n",
       " '__weakref__',\n",
       " 'a',\n",
       " 'dish',\n",
       " 'floor']"
      ]
     },
     "execution_count": 18,
     "metadata": {},
     "output_type": "execute_result"
    }
   ],
   "source": [
    "dir(a)"
   ]
  },
  {
   "cell_type": "code",
   "execution_count": 9,
   "id": "9999b725",
   "metadata": {},
   "outputs": [],
   "source": [
    "# today topic\n",
    "## oops\n",
    "## single inheritance\n",
    "class calc():\n",
    "    \n",
    "    def add(self,a,b):\n",
    "        print(a+b)\n",
    "    def sub(self,a,b):\n",
    "        print(a-b)\n",
    "        "
   ]
  },
  {
   "cell_type": "code",
   "execution_count": 10,
   "id": "94efe94e",
   "metadata": {},
   "outputs": [],
   "source": [
    "class calc1(calc):\n",
    "    \n",
    "    def multiply(self,a,b):\n",
    "        print(a*b)\n",
    "   "
   ]
  },
  {
   "cell_type": "code",
   "execution_count": 11,
   "id": "703bfb31",
   "metadata": {},
   "outputs": [],
   "source": [
    "class calc2(calc1):\n",
    "    def div(self,a,b):\n",
    "        print(a/b)"
   ]
  },
  {
   "cell_type": "markdown",
   "id": "b4302731",
   "metadata": {},
   "source": []
  },
  {
   "cell_type": "code",
   "execution_count": 13,
   "id": "60327f69",
   "metadata": {},
   "outputs": [],
   "source": [
    "a = calc2()"
   ]
  },
  {
   "cell_type": "code",
   "execution_count": 18,
   "id": "a2da264e",
   "metadata": {},
   "outputs": [
    {
     "name": "stdout",
     "output_type": "stream",
     "text": [
      "1.25\n",
      "20\n",
      "9\n",
      "-1\n"
     ]
    }
   ],
   "source": [
    "a.div(5,4)\n",
    "a.multiply(5,4)\n",
    "a.add(4,5)\n",
    "a.sub(4,5)"
   ]
  },
  {
   "cell_type": "code",
   "execution_count": 19,
   "id": "04b08d5f",
   "metadata": {},
   "outputs": [],
   "source": [
    "from abc import ABC , abstractmethod\n",
    "class calc(ABC):\n",
    "    \n",
    "    @abstractmethod\n",
    "    def add(self):\n",
    "        pass\n",
    "    @abstractmethod\n",
    "    def sub(self):\n",
    "        pass\n",
    "class calc1(calc):\n",
    "    \n",
    "    def add(self,a,b):\n",
    "        print(a+b)\n",
    "    def sub(self,a,b):\n",
    "        print(a-b)\n",
    "    def mul(self,a,b):\n",
    "        print(a*b)\n",
    "a = calc1()"
   ]
  },
  {
   "cell_type": "code",
   "execution_count": 20,
   "id": "7d9c05c2",
   "metadata": {},
   "outputs": [
    {
     "name": "stdout",
     "output_type": "stream",
     "text": [
      "9\n"
     ]
    }
   ],
   "source": [
    "a.add(5,4)"
   ]
  },
  {
   "cell_type": "code",
   "execution_count": 21,
   "id": "9b40d259",
   "metadata": {},
   "outputs": [
    {
     "name": "stdout",
     "output_type": "stream",
     "text": [
      "0\n",
      "1\n",
      "2\n"
     ]
    }
   ],
   "source": [
    "#control statment\n",
    "for i in range(5):    \n",
    "    if i == 3:\n",
    "        break\n",
    "    print(i)"
   ]
  },
  {
   "cell_type": "code",
   "execution_count": 22,
   "id": "f0b8a182",
   "metadata": {},
   "outputs": [
    {
     "name": "stdout",
     "output_type": "stream",
     "text": [
      "0\n",
      "1\n",
      "2\n",
      "4\n"
     ]
    }
   ],
   "source": [
    "for i in range(5):    \n",
    "    if i == 3:\n",
    "        continue\n",
    "    print(i)"
   ]
  },
  {
   "cell_type": "code",
   "execution_count": 23,
   "id": "6b2d2502",
   "metadata": {
    "scrolled": true
   },
   "outputs": [
    {
     "name": "stdout",
     "output_type": "stream",
     "text": [
      "0\n",
      "1\n",
      "2\n",
      "3\n",
      "4\n"
     ]
    }
   ],
   "source": [
    "for i in range(5):    \n",
    "    if i == 3:\n",
    "        pass\n",
    "    print(i)"
   ]
  },
  {
   "cell_type": "code",
   "execution_count": 24,
   "id": "a08d4465",
   "metadata": {},
   "outputs": [
    {
     "name": "stdout",
     "output_type": "stream",
     "text": [
      "1 2\n"
     ]
    }
   ],
   "source": [
    "def test(a,b):\n",
    "    print(a,b)\n",
    "test(1,2)    "
   ]
  },
  {
   "cell_type": "code",
   "execution_count": 25,
   "id": "da5cd742",
   "metadata": {},
   "outputs": [
    {
     "name": "stdout",
     "output_type": "stream",
     "text": [
      "(1, 2, 3, 4, 5, 6, 7, 8, 9, 0)\n"
     ]
    }
   ],
   "source": [
    "#position argument\n",
    "def test(*args):\n",
    "    print(args)\n",
    "test(1,2,3,4,5,6,7,8,9,0)"
   ]
  },
  {
   "cell_type": "code",
   "execution_count": 30,
   "id": "3dda5bb3",
   "metadata": {},
   "outputs": [
    {
     "name": "stdout",
     "output_type": "stream",
     "text": [
      "{'a': 1, 'b': 2, 'c': 3}\n",
      "2\n"
     ]
    }
   ],
   "source": [
    "#key word argument\n",
    "def myFun(**kwargs):\n",
    "    print(kwargs)\n",
    "    print(kwargs.get(\"b\"))\n",
    "\n",
    "# Driver code\n",
    "myFun(a=1, b = 2 , c = 3)"
   ]
  },
  {
   "cell_type": "code",
   "execution_count": 29,
   "id": "57bb4f96",
   "metadata": {},
   "outputs": [
    {
     "data": {
      "text/plain": [
       "10"
      ]
     },
     "execution_count": 29,
     "metadata": {},
     "output_type": "execute_result"
    }
   ],
   "source": [
    "#inline function\n",
    "a = lambda x : x+5\n",
    "a(5)"
   ]
  },
  {
   "cell_type": "code",
   "execution_count": 31,
   "id": "f4cd1ad9",
   "metadata": {},
   "outputs": [
    {
     "data": {
      "text/plain": [
       "20"
      ]
     },
     "execution_count": 31,
     "metadata": {},
     "output_type": "execute_result"
    }
   ],
   "source": [
    "a = lambda a,b : a*b\n",
    "a(5,4)"
   ]
  },
  {
   "cell_type": "code",
   "execution_count": 32,
   "id": "fc590256",
   "metadata": {},
   "outputs": [
    {
     "name": "stdout",
     "output_type": "stream",
     "text": [
      "[0, 1, 2, 3, 4, 5, 6, 7, 8, 9]\n",
      "[0, 2, 4, 6, 8]\n"
     ]
    }
   ],
   "source": [
    "# list comprehension\n",
    "a = [x for x in range(10)]\n",
    "print(a)\n",
    "a = [x for x in range(10) if x % 2 == 0]\n",
    "print(a)"
   ]
  },
  {
   "cell_type": "code",
   "execution_count": 33,
   "id": "b401bb81",
   "metadata": {},
   "outputs": [
    {
     "name": "stdout",
     "output_type": "stream",
     "text": [
      "{0: 0, 1: 1, 2: 4, 3: 9, 4: 16, 5: 25, 6: 36, 7: 49, 8: 64, 9: 81}\n"
     ]
    }
   ],
   "source": [
    "a = {x : x**2 for x in range(10)}\n",
    "print(a)"
   ]
  },
  {
   "cell_type": "code",
   "execution_count": 35,
   "id": "1d700808",
   "metadata": {},
   "outputs": [
    {
     "name": "stdout",
     "output_type": "stream",
     "text": [
      "{1: 'one', 2: 'two', 3: 'three'}\n"
     ]
    }
   ],
   "source": [
    "a = [\"one\" , \"two\" , \"three\"]\n",
    "b = [1,2,3]\n",
    "c = zip(b,a)\n",
    "print(dict(c))"
   ]
  },
  {
   "cell_type": "code",
   "execution_count": 36,
   "id": "cfd0e507",
   "metadata": {},
   "outputs": [
    {
     "name": "stdout",
     "output_type": "stream",
     "text": [
      "[[0, 1, 2, 3, 4], [0, 1, 2, 3, 4], [0, 1, 2, 3, 4], [0, 1, 2, 3, 4], [0, 1, 2, 3, 4]]\n"
     ]
    }
   ],
   "source": [
    "# Nested list comprehension\n",
    "matrix = [[j for j in range(5)] for i in range(5)]\n",
    "print(matrix)"
   ]
  },
  {
   "cell_type": "code",
   "execution_count": null,
   "id": "a5692a7e",
   "metadata": {},
   "outputs": [],
   "source": []
  }
 ],
 "metadata": {
  "kernelspec": {
   "display_name": "Python 3 (ipykernel)",
   "language": "python",
   "name": "python3"
  },
  "language_info": {
   "codemirror_mode": {
    "name": "ipython",
    "version": 3
   },
   "file_extension": ".py",
   "mimetype": "text/x-python",
   "name": "python",
   "nbconvert_exporter": "python",
   "pygments_lexer": "ipython3",
   "version": "3.9.13"
  }
 },
 "nbformat": 4,
 "nbformat_minor": 5
}
